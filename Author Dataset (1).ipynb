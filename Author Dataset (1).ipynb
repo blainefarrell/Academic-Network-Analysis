{
 "cells": [
  {
   "cell_type": "code",
   "execution_count": 1,
   "id": "7c201c90",
   "metadata": {},
   "outputs": [],
   "source": [
    "import zstandard as zstd\n",
    "from io import StringIO\n",
    "import pandas as pd\n",
    "import pathlib\n",
    "import zipfile"
   ]
  },
  {
   "cell_type": "code",
   "execution_count": null,
   "id": "90ed04d4",
   "metadata": {},
   "outputs": [],
   "source": []
  },
  {
   "cell_type": "code",
   "execution_count": 15,
   "id": "c586340a",
   "metadata": {},
   "outputs": [
    {
     "name": "stdout",
     "output_type": "stream",
     "text": [
      "(151355324, 4)\n"
     ]
    },
    {
     "data": {
      "text/html": [
       "<div>\n",
       "<style scoped>\n",
       "    .dataframe tbody tr th:only-of-type {\n",
       "        vertical-align: middle;\n",
       "    }\n",
       "\n",
       "    .dataframe tbody tr th {\n",
       "        vertical-align: top;\n",
       "    }\n",
       "\n",
       "    .dataframe thead th {\n",
       "        text-align: right;\n",
       "    }\n",
       "</style>\n",
       "<table border=\"1\" class=\"dataframe\">\n",
       "  <thead>\n",
       "    <tr style=\"text-align: right;\">\n",
       "      <th></th>\n",
       "      <th>entity_id_A</th>\n",
       "      <th>rank_A</th>\n",
       "      <th>paperCount_A</th>\n",
       "      <th>citationCount_A</th>\n",
       "    </tr>\n",
       "  </thead>\n",
       "  <tbody>\n",
       "    <tr>\n",
       "      <th>0</th>\n",
       "      <td>2726120351</td>\n",
       "      <td>21075</td>\n",
       "      <td>1</td>\n",
       "      <td>0</td>\n",
       "    </tr>\n",
       "    <tr>\n",
       "      <th>1</th>\n",
       "      <td>2621600318</td>\n",
       "      <td>21075</td>\n",
       "      <td>1</td>\n",
       "      <td>0</td>\n",
       "    </tr>\n",
       "    <tr>\n",
       "      <th>2</th>\n",
       "      <td>2511487617</td>\n",
       "      <td>20182</td>\n",
       "      <td>1</td>\n",
       "      <td>15</td>\n",
       "    </tr>\n",
       "    <tr>\n",
       "      <th>3</th>\n",
       "      <td>2547584944</td>\n",
       "      <td>20912</td>\n",
       "      <td>1</td>\n",
       "      <td>4</td>\n",
       "    </tr>\n",
       "    <tr>\n",
       "      <th>4</th>\n",
       "      <td>2799999052</td>\n",
       "      <td>20381</td>\n",
       "      <td>2</td>\n",
       "      <td>0</td>\n",
       "    </tr>\n",
       "  </tbody>\n",
       "</table>\n",
       "</div>"
      ],
      "text/plain": [
       "   entity_id_A  rank_A  paperCount_A  citationCount_A\n",
       "0   2726120351   21075             1                0\n",
       "1   2621600318   21075             1                0\n",
       "2   2511487617   20182             1               15\n",
       "3   2547584944   20912             1                4\n",
       "4   2799999052   20381             2                0"
      ]
     },
     "execution_count": 15,
     "metadata": {},
     "output_type": "execute_result"
    }
   ],
   "source": [
    "Authors = pd.read_csv('23.Authors_disambiguated.csv.zip')\n",
    "#columns dropped = class, org#memberOf, foaf_name, paperFamilyCount\n",
    "Authors.drop(Authors.columns[[1,3,4,6]], axis=1,inplace=True)\n",
    "Authors.columns = ['entity_id_A', 'rank_A', 'paperCount_A', 'citationCount_A']\n",
    "\n",
    "print(Authors.shape)\n",
    "Authors.head()"
   ]
  },
  {
   "cell_type": "code",
   "execution_count": 3,
   "id": "d0229681",
   "metadata": {},
   "outputs": [
    {
     "name": "stdout",
     "output_type": "stream",
     "text": [
      "(638211906, 2)\n"
     ]
    },
    {
     "data": {
      "text/html": [
       "<div>\n",
       "<style scoped>\n",
       "    .dataframe tbody tr th:only-of-type {\n",
       "        vertical-align: middle;\n",
       "    }\n",
       "\n",
       "    .dataframe tbody tr th {\n",
       "        vertical-align: top;\n",
       "    }\n",
       "\n",
       "    .dataframe thead th {\n",
       "        text-align: right;\n",
       "    }\n",
       "</style>\n",
       "<table border=\"1\" class=\"dataframe\">\n",
       "  <thead>\n",
       "    <tr style=\"text-align: right;\">\n",
       "      <th></th>\n",
       "      <th>entity_id</th>\n",
       "      <th>dcterms_creator</th>\n",
       "    </tr>\n",
       "  </thead>\n",
       "  <tbody>\n",
       "    <tr>\n",
       "      <th>0</th>\n",
       "      <td>9</td>\n",
       "      <td>309252444</td>\n",
       "    </tr>\n",
       "    <tr>\n",
       "      <th>1</th>\n",
       "      <td>15</td>\n",
       "      <td>2267962435</td>\n",
       "    </tr>\n",
       "    <tr>\n",
       "      <th>2</th>\n",
       "      <td>15</td>\n",
       "      <td>680395887</td>\n",
       "    </tr>\n",
       "    <tr>\n",
       "      <th>3</th>\n",
       "      <td>23</td>\n",
       "      <td>3024436335</td>\n",
       "    </tr>\n",
       "    <tr>\n",
       "      <th>4</th>\n",
       "      <td>23</td>\n",
       "      <td>2582258949</td>\n",
       "    </tr>\n",
       "  </tbody>\n",
       "</table>\n",
       "</div>"
      ],
      "text/plain": [
       "   entity_id  dcterms_creator\n",
       "0          9        309252444\n",
       "1         15       2267962435\n",
       "2         15        680395887\n",
       "3         23       3024436335\n",
       "4         23       2582258949"
      ]
     },
     "execution_count": 3,
     "metadata": {},
     "output_type": "execute_result"
    }
   ],
   "source": [
    "PAA = pd.read_csv('06.24.PaperAuthorAffiliations_Disambiguated.csv.zip')\n",
    "#columns dropped = class, foaf_name, issn, foaf_homepage, paperFamilyCount, publisher\n",
    "#PAA.drop(PAA.columns[[0,2,3,4,6,9]], axis=1,inplace=True)\n",
    "#PAA.columns = ['rank_J', 'paperCount_J', 'citationCount_J', 'entity_id']\n",
    "\n",
    "print(PAA.shape)\n",
    "PAA.head()"
   ]
  },
  {
   "cell_type": "code",
   "execution_count": null,
   "id": "0c03ca3a",
   "metadata": {},
   "outputs": [],
   "source": [
    "Paper0 = pd.read_csv('10.Papers_0.csv.zip', low_memory=False)"
   ]
  },
  {
   "cell_type": "code",
   "execution_count": 9,
   "id": "18adc877",
   "metadata": {},
   "outputs": [
    {
     "data": {
      "text/html": [
       "<div>\n",
       "<style scoped>\n",
       "    .dataframe tbody tr th:only-of-type {\n",
       "        vertical-align: middle;\n",
       "    }\n",
       "\n",
       "    .dataframe tbody tr th {\n",
       "        vertical-align: top;\n",
       "    }\n",
       "\n",
       "    .dataframe thead th {\n",
       "        text-align: right;\n",
       "    }\n",
       "</style>\n",
       "<table border=\"1\" class=\"dataframe\">\n",
       "  <thead>\n",
       "    <tr style=\"text-align: right;\">\n",
       "      <th></th>\n",
       "      <th>entity_id</th>\n",
       "      <th>rank_P</th>\n",
       "    </tr>\n",
       "  </thead>\n",
       "  <tbody>\n",
       "    <tr>\n",
       "      <th>0</th>\n",
       "      <td>6320</td>\n",
       "      <td>24657</td>\n",
       "    </tr>\n",
       "    <tr>\n",
       "      <th>1</th>\n",
       "      <td>12040</td>\n",
       "      <td>27289</td>\n",
       "    </tr>\n",
       "    <tr>\n",
       "      <th>2</th>\n",
       "      <td>31860</td>\n",
       "      <td>27109</td>\n",
       "    </tr>\n",
       "    <tr>\n",
       "      <th>3</th>\n",
       "      <td>40690</td>\n",
       "      <td>27152</td>\n",
       "    </tr>\n",
       "    <tr>\n",
       "      <th>4</th>\n",
       "      <td>47840</td>\n",
       "      <td>23416</td>\n",
       "    </tr>\n",
       "  </tbody>\n",
       "</table>\n",
       "</div>"
      ],
      "text/plain": [
       "   entity_id  rank_P\n",
       "0       6320   24657\n",
       "1      12040   27289\n",
       "2      31860   27109\n",
       "3      40690   27152\n",
       "4      47840   23416"
      ]
     },
     "execution_count": 9,
     "metadata": {},
     "output_type": "execute_result"
    }
   ],
   "source": [
    "#Paper0 = pd.read_csv('10.Papers_0.csv.zip', low_memory=False)\n",
    "#columns dropped = class, estimatedCitationCount, familyId, appearsInConferenceInstance, dcterms_created, dcterms_title,\n",
    "#                  dcterms_publisher, prism_issueIdentifier, prism_startingPage, prism_volume, prism_endingPage, \n",
    "#                  prism_publicationDate, dbo_publisher\n",
    "#Paper0.drop(Paper0.columns[[1,5,7,8,11,12,13,14,15,16,17,18,19]], axis=1,inplace=True)\n",
    "#Paper0.columns = ['entity_id', 'entity_type', 'appearsInJournal', 'rank_P', 'referenceCount_P',\n",
    "#                  'appearsInConferenceInstance', 'citationCount_P']\n",
    "Paper0.drop(Paper0.columns[[1,2,4,5,6]], axis=1,inplace=True)\n",
    "\n",
    "Paper0.head()"
   ]
  },
  {
   "cell_type": "code",
   "execution_count": 10,
   "id": "cd8f0555",
   "metadata": {},
   "outputs": [],
   "source": [
    "PAA1 = pd.merge(Paper0,PAA,how=\"left\")"
   ]
  },
  {
   "cell_type": "code",
   "execution_count": 11,
   "id": "485d2479",
   "metadata": {},
   "outputs": [
    {
     "data": {
      "text/plain": [
       "(63828591, 3)"
      ]
     },
     "execution_count": 11,
     "metadata": {},
     "output_type": "execute_result"
    }
   ],
   "source": [
    "PAA1.shape"
   ]
  },
  {
   "cell_type": "code",
   "execution_count": 13,
   "id": "9b6b0e5e",
   "metadata": {},
   "outputs": [],
   "source": [
    "PAA1.to_csv(\"PAA1.csv\")"
   ]
  },
  {
   "cell_type": "code",
   "execution_count": 16,
   "id": "69eacb0e",
   "metadata": {},
   "outputs": [],
   "source": [
    "AuthMerg0 = pd.merge(PAA1,Authors,how=\"left\",left_on=\"dcterms_creator\",right_on=\"entity_id_A\")"
   ]
  },
  {
   "cell_type": "code",
   "execution_count": 18,
   "id": "4a4d0f1a",
   "metadata": {},
   "outputs": [
    {
     "name": "stdout",
     "output_type": "stream",
     "text": [
      "(63828591, 6)\n"
     ]
    },
    {
     "data": {
      "text/html": [
       "<div>\n",
       "<style scoped>\n",
       "    .dataframe tbody tr th:only-of-type {\n",
       "        vertical-align: middle;\n",
       "    }\n",
       "\n",
       "    .dataframe tbody tr th {\n",
       "        vertical-align: top;\n",
       "    }\n",
       "\n",
       "    .dataframe thead th {\n",
       "        text-align: right;\n",
       "    }\n",
       "</style>\n",
       "<table border=\"1\" class=\"dataframe\">\n",
       "  <thead>\n",
       "    <tr style=\"text-align: right;\">\n",
       "      <th></th>\n",
       "      <th>entity_id</th>\n",
       "      <th>dcterms_creator</th>\n",
       "      <th>entity_id_A</th>\n",
       "      <th>rank_A</th>\n",
       "      <th>paperCount_A</th>\n",
       "      <th>citationCount_A</th>\n",
       "    </tr>\n",
       "  </thead>\n",
       "  <tbody>\n",
       "    <tr>\n",
       "      <th>0</th>\n",
       "      <td>6320</td>\n",
       "      <td>2.700171e+09</td>\n",
       "      <td>2.700171e+09</td>\n",
       "      <td>21021.0</td>\n",
       "      <td>45.0</td>\n",
       "      <td>792.0</td>\n",
       "    </tr>\n",
       "    <tr>\n",
       "      <th>1</th>\n",
       "      <td>12040</td>\n",
       "      <td>2.274479e+09</td>\n",
       "      <td>2.274479e+09</td>\n",
       "      <td>21075.0</td>\n",
       "      <td>13.0</td>\n",
       "      <td>1.0</td>\n",
       "    </tr>\n",
       "    <tr>\n",
       "      <th>2</th>\n",
       "      <td>31860</td>\n",
       "      <td>2.341956e+09</td>\n",
       "      <td>2.341956e+09</td>\n",
       "      <td>21075.0</td>\n",
       "      <td>22.0</td>\n",
       "      <td>5.0</td>\n",
       "    </tr>\n",
       "    <tr>\n",
       "      <th>3</th>\n",
       "      <td>40690</td>\n",
       "      <td>2.212853e+09</td>\n",
       "      <td>2.212853e+09</td>\n",
       "      <td>21075.0</td>\n",
       "      <td>1.0</td>\n",
       "      <td>0.0</td>\n",
       "    </tr>\n",
       "    <tr>\n",
       "      <th>4</th>\n",
       "      <td>47840</td>\n",
       "      <td>2.151890e+09</td>\n",
       "      <td>2.151890e+09</td>\n",
       "      <td>14571.0</td>\n",
       "      <td>268.0</td>\n",
       "      <td>2701.0</td>\n",
       "    </tr>\n",
       "  </tbody>\n",
       "</table>\n",
       "</div>"
      ],
      "text/plain": [
       "   entity_id  dcterms_creator   entity_id_A   rank_A  paperCount_A  \\\n",
       "0       6320     2.700171e+09  2.700171e+09  21021.0          45.0   \n",
       "1      12040     2.274479e+09  2.274479e+09  21075.0          13.0   \n",
       "2      31860     2.341956e+09  2.341956e+09  21075.0          22.0   \n",
       "3      40690     2.212853e+09  2.212853e+09  21075.0           1.0   \n",
       "4      47840     2.151890e+09  2.151890e+09  14571.0         268.0   \n",
       "\n",
       "   citationCount_A  \n",
       "0            792.0  \n",
       "1              1.0  \n",
       "2              5.0  \n",
       "3              0.0  \n",
       "4           2701.0  "
      ]
     },
     "execution_count": 18,
     "metadata": {},
     "output_type": "execute_result"
    }
   ],
   "source": [
    "AuthMerg0.drop(AuthMerg0.columns[[1]], axis=1,inplace=True)\n",
    "print(AuthMerg0.shape)\n",
    "AuthMerg0.head()"
   ]
  },
  {
   "cell_type": "code",
   "execution_count": 22,
   "id": "d5df3cec",
   "metadata": {},
   "outputs": [],
   "source": [
    "AuthMerg = AuthMerg0[:20000000]"
   ]
  },
  {
   "cell_type": "code",
   "execution_count": 23,
   "id": "9ceb16de",
   "metadata": {},
   "outputs": [
    {
     "name": "stdout",
     "output_type": "stream",
     "text": [
      "(20000000, 6)\n"
     ]
    },
    {
     "data": {
      "text/html": [
       "<div>\n",
       "<style scoped>\n",
       "    .dataframe tbody tr th:only-of-type {\n",
       "        vertical-align: middle;\n",
       "    }\n",
       "\n",
       "    .dataframe tbody tr th {\n",
       "        vertical-align: top;\n",
       "    }\n",
       "\n",
       "    .dataframe thead th {\n",
       "        text-align: right;\n",
       "    }\n",
       "</style>\n",
       "<table border=\"1\" class=\"dataframe\">\n",
       "  <thead>\n",
       "    <tr style=\"text-align: right;\">\n",
       "      <th></th>\n",
       "      <th>entity_id</th>\n",
       "      <th>dcterms_creator</th>\n",
       "      <th>entity_id_A</th>\n",
       "      <th>rank_A</th>\n",
       "      <th>paperCount_A</th>\n",
       "      <th>citationCount_A</th>\n",
       "    </tr>\n",
       "  </thead>\n",
       "  <tbody>\n",
       "    <tr>\n",
       "      <th>0</th>\n",
       "      <td>6320</td>\n",
       "      <td>2.700171e+09</td>\n",
       "      <td>2.700171e+09</td>\n",
       "      <td>21021.0</td>\n",
       "      <td>45.0</td>\n",
       "      <td>792.0</td>\n",
       "    </tr>\n",
       "    <tr>\n",
       "      <th>1</th>\n",
       "      <td>12040</td>\n",
       "      <td>2.274479e+09</td>\n",
       "      <td>2.274479e+09</td>\n",
       "      <td>21075.0</td>\n",
       "      <td>13.0</td>\n",
       "      <td>1.0</td>\n",
       "    </tr>\n",
       "    <tr>\n",
       "      <th>2</th>\n",
       "      <td>31860</td>\n",
       "      <td>2.341956e+09</td>\n",
       "      <td>2.341956e+09</td>\n",
       "      <td>21075.0</td>\n",
       "      <td>22.0</td>\n",
       "      <td>5.0</td>\n",
       "    </tr>\n",
       "    <tr>\n",
       "      <th>3</th>\n",
       "      <td>40690</td>\n",
       "      <td>2.212853e+09</td>\n",
       "      <td>2.212853e+09</td>\n",
       "      <td>21075.0</td>\n",
       "      <td>1.0</td>\n",
       "      <td>0.0</td>\n",
       "    </tr>\n",
       "    <tr>\n",
       "      <th>4</th>\n",
       "      <td>47840</td>\n",
       "      <td>2.151890e+09</td>\n",
       "      <td>2.151890e+09</td>\n",
       "      <td>14571.0</td>\n",
       "      <td>268.0</td>\n",
       "      <td>2701.0</td>\n",
       "    </tr>\n",
       "  </tbody>\n",
       "</table>\n",
       "</div>"
      ],
      "text/plain": [
       "   entity_id  dcterms_creator   entity_id_A   rank_A  paperCount_A  \\\n",
       "0       6320     2.700171e+09  2.700171e+09  21021.0          45.0   \n",
       "1      12040     2.274479e+09  2.274479e+09  21075.0          13.0   \n",
       "2      31860     2.341956e+09  2.341956e+09  21075.0          22.0   \n",
       "3      40690     2.212853e+09  2.212853e+09  21075.0           1.0   \n",
       "4      47840     2.151890e+09  2.151890e+09  14571.0         268.0   \n",
       "\n",
       "   citationCount_A  \n",
       "0            792.0  \n",
       "1              1.0  \n",
       "2              5.0  \n",
       "3              0.0  \n",
       "4           2701.0  "
      ]
     },
     "execution_count": 23,
     "metadata": {},
     "output_type": "execute_result"
    }
   ],
   "source": [
    "print(AuthMerg.shape)\n",
    "AuthMerg.head()"
   ]
  },
  {
   "cell_type": "code",
   "execution_count": 24,
   "id": "4967d4c1",
   "metadata": {
    "scrolled": true
   },
   "outputs": [],
   "source": [
    "AuthMerg.to_csv(\"AuthMerg.csv\")\n"
   ]
  },
  {
   "cell_type": "code",
   "execution_count": null,
   "id": "7212b44c",
   "metadata": {},
   "outputs": [],
   "source": []
  },
  {
   "cell_type": "code",
   "execution_count": null,
   "id": "b35b5e3c",
   "metadata": {},
   "outputs": [],
   "source": []
  },
  {
   "cell_type": "code",
   "execution_count": null,
   "id": "a29aad38",
   "metadata": {},
   "outputs": [],
   "source": []
  }
 ],
 "metadata": {
  "kernelspec": {
   "display_name": "Python 3 (ipykernel)",
   "language": "python",
   "name": "python3"
  },
  "language_info": {
   "codemirror_mode": {
    "name": "ipython",
    "version": 3
   },
   "file_extension": ".py",
   "mimetype": "text/x-python",
   "name": "python",
   "nbconvert_exporter": "python",
   "pygments_lexer": "ipython3",
   "version": "3.9.12"
  }
 },
 "nbformat": 4,
 "nbformat_minor": 5
}
