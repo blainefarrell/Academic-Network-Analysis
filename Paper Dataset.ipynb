{
 "cells": [
  {
   "cell_type": "code",
   "execution_count": 5,
   "id": "2ad38666",
   "metadata": {},
   "outputs": [],
   "source": [
    "import zstandard as zstd\n",
    "from io import StringIO\n",
    "import pandas as pd\n",
    "import pathlib\n",
    "import zipfile"
   ]
  },
  {
   "cell_type": "markdown",
   "id": "7a22ab6d",
   "metadata": {},
   "source": [
    "# PAPERS"
   ]
  },
  {
   "cell_type": "code",
   "execution_count": 6,
   "id": "7f29294c",
   "metadata": {},
   "outputs": [
    {
     "data": {
      "text/html": [
       "<div>\n",
       "<style scoped>\n",
       "    .dataframe tbody tr th:only-of-type {\n",
       "        vertical-align: middle;\n",
       "    }\n",
       "\n",
       "    .dataframe tbody tr th {\n",
       "        vertical-align: top;\n",
       "    }\n",
       "\n",
       "    .dataframe thead th {\n",
       "        text-align: right;\n",
       "    }\n",
       "</style>\n",
       "<table border=\"1\" class=\"dataframe\">\n",
       "  <thead>\n",
       "    <tr style=\"text-align: right;\">\n",
       "      <th></th>\n",
       "      <th>entity_id</th>\n",
       "      <th>entity_type</th>\n",
       "      <th>appearsInJournal</th>\n",
       "      <th>rank_P</th>\n",
       "      <th>referenceCount_P</th>\n",
       "      <th>appearsInConferenceInstance</th>\n",
       "      <th>citationCount_P</th>\n",
       "    </tr>\n",
       "  </thead>\n",
       "  <tbody>\n",
       "    <tr>\n",
       "      <th>0</th>\n",
       "      <td>6320</td>\n",
       "      <td>NaN</td>\n",
       "      <td>NaN</td>\n",
       "      <td>24657</td>\n",
       "      <td>1</td>\n",
       "      <td>NaN</td>\n",
       "      <td>0</td>\n",
       "    </tr>\n",
       "    <tr>\n",
       "      <th>1</th>\n",
       "      <td>12040</td>\n",
       "      <td>NaN</td>\n",
       "      <td>NaN</td>\n",
       "      <td>27289</td>\n",
       "      <td>0</td>\n",
       "      <td>NaN</td>\n",
       "      <td>0</td>\n",
       "    </tr>\n",
       "    <tr>\n",
       "      <th>2</th>\n",
       "      <td>31860</td>\n",
       "      <td>NaN</td>\n",
       "      <td>NaN</td>\n",
       "      <td>27109</td>\n",
       "      <td>0</td>\n",
       "      <td>NaN</td>\n",
       "      <td>0</td>\n",
       "    </tr>\n",
       "    <tr>\n",
       "      <th>3</th>\n",
       "      <td>40690</td>\n",
       "      <td>NaN</td>\n",
       "      <td>NaN</td>\n",
       "      <td>27152</td>\n",
       "      <td>0</td>\n",
       "      <td>NaN</td>\n",
       "      <td>0</td>\n",
       "    </tr>\n",
       "    <tr>\n",
       "      <th>4</th>\n",
       "      <td>47840</td>\n",
       "      <td>JournalArticle</td>\n",
       "      <td>2.764474e+09</td>\n",
       "      <td>23416</td>\n",
       "      <td>0</td>\n",
       "      <td>NaN</td>\n",
       "      <td>1</td>\n",
       "    </tr>\n",
       "  </tbody>\n",
       "</table>\n",
       "</div>"
      ],
      "text/plain": [
       "   entity_id     entity_type  appearsInJournal  rank_P  referenceCount_P  \\\n",
       "0       6320             NaN               NaN   24657                 1   \n",
       "1      12040             NaN               NaN   27289                 0   \n",
       "2      31860             NaN               NaN   27109                 0   \n",
       "3      40690             NaN               NaN   27152                 0   \n",
       "4      47840  JournalArticle      2.764474e+09   23416                 0   \n",
       "\n",
       "   appearsInConferenceInstance  citationCount_P  \n",
       "0                          NaN                0  \n",
       "1                          NaN                0  \n",
       "2                          NaN                0  \n",
       "3                          NaN                0  \n",
       "4                          NaN                1  "
      ]
     },
     "execution_count": 6,
     "metadata": {},
     "output_type": "execute_result"
    }
   ],
   "source": [
    "Paper0 = pd.read_csv('10.Papers_0.csv.zip', low_memory=False)\n",
    "#columns dropped = class, estimatedCitationCount, familyId, appearsInConferenceInstance, dcterms_created, dcterms_title,\n",
    "#                  dcterms_publisher, prism_issueIdentifier, prism_startingPage, prism_volume, prism_endingPage, \n",
    "#                  prism_publicationDate, dbo_publisher\n",
    "Paper0.drop(Paper0.columns[[1,5,7,8,11,12,13,14,15,16,17,18,19]], axis=1,inplace=True)\n",
    "Paper0.columns = ['entity_id', 'entity_type', 'appearsInJournal', 'rank_P', 'referenceCount_P',\n",
    "                  'appearsInConferenceInstance', 'citationCount_P']\n",
    "\n",
    "\n",
    "Paper0.head()"
   ]
  },
  {
   "cell_type": "code",
   "execution_count": null,
   "id": "ba9f9c20",
   "metadata": {},
   "outputs": [],
   "source": [
    "#Paper1 = pd.read_csv('10.Papers_1.csv.zip')\n",
    "#columns dropped = class, estimatedCitationCount, familyId, appearsInConferenceInstance, dcterms_created, dcterms_title,\n",
    "#                  dcterms_publisher, prism_issueIdentifier, prism_startingPage, prism_volume, prism_endingPage, \n",
    "#                  prism_publicationDate, dbo_publisher\n",
    "#Paper1.drop(Paper1.columns[[1,5,7,8,11,12,13,14,15,16,17,18,19]], axis=1,inplace=True)\n",
    "#\n",
    "#Paper1.head()"
   ]
  },
  {
   "cell_type": "code",
   "execution_count": null,
   "id": "3ef3755b",
   "metadata": {},
   "outputs": [],
   "source": [
    "#Paper2 = pd.read_csv('10.Papers_2.csv.zip')\n",
    "#columns dropped = class, estimatedCitationCount, familyId, appearsInConferenceInstance, dcterms_created, dcterms_title,\n",
    "#                  dcterms_publisher, prism_issueIdentifier, prism_startingPage, prism_volume, prism_endingPage, \n",
    "#                  prism_publicationDate, dbo_publisher\n",
    "#Paper2.drop(Paper2.columns[[1,5,7,8,11,12,13,14,15,16,17,18,19]], axis=1,inplace=True)\n",
    "#\n",
    "#Paper2.head()"
   ]
  },
  {
   "cell_type": "code",
   "execution_count": null,
   "id": "d4c652b6",
   "metadata": {},
   "outputs": [],
   "source": [
    "#Paper3 = pd.read_csv('10.Papers_3.csv.zip')\n",
    "#columns dropped = class, estimatedCitationCount, familyId, appearsInConferenceInstance, dcterms_created, dcterms_title,\n",
    "#                  dcterms_publisher, prism_issueIdentifier, prism_startingPage, prism_volume, prism_endingPage, \n",
    "#                  prism_publicationDate, dbo_publisher\n",
    "#Paper3.drop(Paper3.columns[[1,5,7,8,11,12,13,14,15,16,17,18,19]], axis=1,inplace=True)\n",
    "#\n",
    "#Paper3.head()"
   ]
  },
  {
   "cell_type": "code",
   "execution_count": null,
   "id": "bcc0a9d7",
   "metadata": {},
   "outputs": [],
   "source": [
    "#Paper4 = pd.read_csv('10.Papers_4.csv.zip')\n",
    "#columns dropped = class, estimatedCitationCount, familyId, appearsInConferenceInstance, dcterms_created, dcterms_title,\n",
    "#                  dcterms_publisher, prism_issueIdentifier, prism_startingPage, prism_volume, prism_endingPage, \n",
    "#                  prism_publicationDate, dbo_publisher\n",
    "#Paper4.drop(Paper4.columns[[1,5,7,8,11,12,13,14,15,16,17,18,19]], axis=1,inplace=True)\n",
    "#\n",
    "#Paper4.head()"
   ]
  },
  {
   "cell_type": "code",
   "execution_count": null,
   "id": "757ded0c",
   "metadata": {},
   "outputs": [],
   "source": [
    "#Paper5 = pd.read_csv('10.Papers_5.csv.zip')\n",
    "#columns dropped = class, estimatedCitationCount, familyId, appearsInConferenceInstance, dcterms_created, dcterms_title,\n",
    "#                  dcterms_publisher, prism_issueIdentifier, prism_startingPage, prism_volume, prism_endingPage, \n",
    "#                  prism_publicationDate, dbo_publisher\n",
    "#Paper5.drop(Paper5.columns[[1,5,7,8,11,12,13,14,15,16,17,18,19]], axis=1,inplace=True)\n",
    "#\n",
    "#Paper5.head()"
   ]
  },
  {
   "cell_type": "code",
   "execution_count": null,
   "id": "bdc526b5",
   "metadata": {},
   "outputs": [],
   "source": [
    "#Paper6 = pd.read_csv('10.Papers_6.csv.zip')\n",
    "#columns dropped = class, estimatedCitationCount, familyId, appearsInConferenceInstance, dcterms_created, dcterms_title,\n",
    "#                  dcterms_publisher, prism_issueIdentifier, prism_startingPage, prism_volume, prism_endingPage, \n",
    "#                  prism_publicationDate, dbo_publisher\n",
    "#Paper6.drop(Paper6.columns[[1,5,7,8,11,12,13,14,15,16,17,18,19]], axis=1,inplace=True)\n",
    "#\n",
    "#Paper6.head()"
   ]
  },
  {
   "cell_type": "code",
   "execution_count": null,
   "id": "899c8008",
   "metadata": {},
   "outputs": [],
   "source": [
    "#Paper7 = pd.read_csv('10.Papers_7.csv.zip')\n",
    "#columns dropped = class, estimatedCitationCount, familyId, appearsInConferenceInstance, dcterms_created, dcterms_title,\n",
    "#                  dcterms_publisher, prism_issueIdentifier, prism_startingPage, prism_volume, prism_endingPage, \n",
    "#                  prism_publicationDate, dbo_publisher\n",
    "#Paper7.drop(Paper7.columns[[1,5,7,8,11,12,13,14,15,16,17,18,19]], axis=1,inplace=True)\n",
    "#\n",
    "#Paper7.head()"
   ]
  },
  {
   "cell_type": "code",
   "execution_count": null,
   "id": "da9e652b",
   "metadata": {},
   "outputs": [],
   "source": [
    "#Paper8 = pd.read_csv('10.Papers_8.csv.zip')\n",
    "#columns dropped = class, estimatedCitationCount, familyId, appearsInConferenceInstance, dcterms_created, dcterms_title,\n",
    "#                  dcterms_publisher, prism_issueIdentifier, prism_startingPage, prism_volume, prism_endingPage, \n",
    "#                  prism_publicationDate, dbo_publisher\n",
    "#Paper8.drop(Paper8.columns[[1,5,7,8,11,12,13,14,15,16,17,18,19]], axis=1,inplace=True)\n",
    "#\n",
    "#Paper8.head()"
   ]
  },
  {
   "cell_type": "code",
   "execution_count": null,
   "id": "c8205206",
   "metadata": {},
   "outputs": [],
   "source": [
    "#Paper9 = pd.read_csv('10.Papers_9.csv.zip')\n",
    "#columns dropped = class, estimatedCitationCount, familyId, appearsInConferenceInstance, dcterms_created, dcterms_title,\n",
    "#                  dcterms_publisher, prism_issueIdentifier, prism_startingPage, prism_volume, prism_endingPage, \n",
    "#                  prism_publicationDate, dbo_publisher\n",
    "#Paper9.drop(Paper9.columns[[1,5,7,8,11,12,13,14,15,16,17,18,19]], axis=1,inplace=True)\n",
    "#\n",
    "#Paper9.head()"
   ]
  },
  {
   "cell_type": "code",
   "execution_count": null,
   "id": "41a47131",
   "metadata": {},
   "outputs": [],
   "source": []
  },
  {
   "cell_type": "markdown",
   "id": "d89976e4",
   "metadata": {},
   "source": [
    "# Field of Study Data"
   ]
  },
  {
   "cell_type": "code",
   "execution_count": 7,
   "id": "ab511298",
   "metadata": {},
   "outputs": [
    {
     "data": {
      "text/html": [
       "<div>\n",
       "<style scoped>\n",
       "    .dataframe tbody tr th:only-of-type {\n",
       "        vertical-align: middle;\n",
       "    }\n",
       "\n",
       "    .dataframe tbody tr th {\n",
       "        vertical-align: top;\n",
       "    }\n",
       "\n",
       "    .dataframe thead th {\n",
       "        text-align: right;\n",
       "    }\n",
       "</style>\n",
       "<table border=\"1\" class=\"dataframe\">\n",
       "  <thead>\n",
       "    <tr style=\"text-align: right;\">\n",
       "      <th></th>\n",
       "      <th>entity_id</th>\n",
       "      <th>entity_idF</th>\n",
       "    </tr>\n",
       "  </thead>\n",
       "  <tbody>\n",
       "    <tr>\n",
       "      <th>0</th>\n",
       "      <td>68443510</td>\n",
       "      <td>16674752</td>\n",
       "    </tr>\n",
       "    <tr>\n",
       "      <th>1</th>\n",
       "      <td>68443510</td>\n",
       "      <td>120766042</td>\n",
       "    </tr>\n",
       "    <tr>\n",
       "      <th>2</th>\n",
       "      <td>68443510</td>\n",
       "      <td>205649164</td>\n",
       "    </tr>\n",
       "    <tr>\n",
       "      <th>3</th>\n",
       "      <td>68443510</td>\n",
       "      <td>166957645</td>\n",
       "    </tr>\n",
       "    <tr>\n",
       "      <th>4</th>\n",
       "      <td>33762290</td>\n",
       "      <td>15744967</td>\n",
       "    </tr>\n",
       "  </tbody>\n",
       "</table>\n",
       "</div>"
      ],
      "text/plain": [
       "   entity_id  entity_idF\n",
       "0   68443510    16674752\n",
       "1   68443510   120766042\n",
       "2   68443510   205649164\n",
       "3   68443510   166957645\n",
       "4   33762290    15744967"
      ]
     },
     "execution_count": 7,
     "metadata": {},
     "output_type": "execute_result"
    }
   ],
   "source": [
    "with zipfile.ZipFile(\"16.PaperFieldsOfStudy_0.csv.zip\") as z:\n",
    "   # open the csv file in the dataset\n",
    "    with z.open(\"16.PaperFieldsOfStudy_0.csv\") as f:       \n",
    "      # read the dataset\n",
    "        PF0 = pd.read_csv(f)\n",
    "        \n",
    "        \n",
    "PF = pd.DataFrame(PF0)\n",
    "#columns dropped = class, foaf_name, level, paperFamilyCount\n",
    "#PF.drop(PF.columns[[1,2,4,5]], axis=1,inplace=True)\n",
    "PF.columns = ['entity_id', 'entity_idF']\n",
    "\n",
    "PF.head()"
   ]
  },
  {
   "cell_type": "code",
   "execution_count": 8,
   "id": "3d9b475c",
   "metadata": {},
   "outputs": [
    {
     "data": {
      "text/html": [
       "<div>\n",
       "<style scoped>\n",
       "    .dataframe tbody tr th:only-of-type {\n",
       "        vertical-align: middle;\n",
       "    }\n",
       "\n",
       "    .dataframe tbody tr th {\n",
       "        vertical-align: top;\n",
       "    }\n",
       "\n",
       "    .dataframe thead th {\n",
       "        text-align: right;\n",
       "    }\n",
       "</style>\n",
       "<table border=\"1\" class=\"dataframe\">\n",
       "  <thead>\n",
       "    <tr style=\"text-align: right;\">\n",
       "      <th></th>\n",
       "      <th>entity_idF</th>\n",
       "      <th>fos_list</th>\n",
       "    </tr>\n",
       "  </thead>\n",
       "  <tbody>\n",
       "    <tr>\n",
       "      <th>0</th>\n",
       "      <td>95457728</td>\n",
       "      <td>History</td>\n",
       "    </tr>\n",
       "    <tr>\n",
       "      <th>1</th>\n",
       "      <td>127313418</td>\n",
       "      <td>Geology</td>\n",
       "    </tr>\n",
       "    <tr>\n",
       "      <th>2</th>\n",
       "      <td>162324750</td>\n",
       "      <td>Economics</td>\n",
       "    </tr>\n",
       "    <tr>\n",
       "      <th>3</th>\n",
       "      <td>205649164</td>\n",
       "      <td>Geography</td>\n",
       "    </tr>\n",
       "    <tr>\n",
       "      <th>4</th>\n",
       "      <td>185592680</td>\n",
       "      <td>Chemistry</td>\n",
       "    </tr>\n",
       "  </tbody>\n",
       "</table>\n",
       "</div>"
      ],
      "text/plain": [
       "   entity_idF   fos_list\n",
       "0    95457728    History\n",
       "1   127313418    Geology\n",
       "2   162324750  Economics\n",
       "3   205649164  Geography\n",
       "4   185592680  Chemistry"
      ]
     },
     "execution_count": 8,
     "metadata": {},
     "output_type": "execute_result"
    }
   ],
   "source": [
    "with zipfile.ZipFile(\"22.FieldOfStudyLabeled.csv.zip\") as z:\n",
    "   # open the csv file in the dataset\n",
    "    with z.open(\"FieldOfStudyLabeled.csv\") as f:       \n",
    "      # read the dataset\n",
    "        LF0 = pd.read_csv(f)\n",
    "        \n",
    "        \n",
    "LF = pd.DataFrame(LF0)\n",
    "#columns dropped = class, foaf_name, level, paperFamilyCount\n",
    "#LF.drop(LF.columns[[1,2,4,5]], axis=1,inplace=True)\n",
    "LF.columns = ['entity_idF', 'fos_list']\n",
    "LF['fos_list'] = LF['fos_list'].str.extract(r\"(.*?):\")\n",
    "\n",
    "LF.head()"
   ]
  },
  {
   "cell_type": "code",
   "execution_count": 10,
   "id": "c59d034a",
   "metadata": {},
   "outputs": [
    {
     "data": {
      "text/html": [
       "<div>\n",
       "<style scoped>\n",
       "    .dataframe tbody tr th:only-of-type {\n",
       "        vertical-align: middle;\n",
       "    }\n",
       "\n",
       "    .dataframe tbody tr th {\n",
       "        vertical-align: top;\n",
       "    }\n",
       "\n",
       "    .dataframe thead th {\n",
       "        text-align: right;\n",
       "    }\n",
       "</style>\n",
       "<table border=\"1\" class=\"dataframe\">\n",
       "  <thead>\n",
       "    <tr style=\"text-align: right;\">\n",
       "      <th></th>\n",
       "      <th>entity_id</th>\n",
       "      <th>rank_FOS</th>\n",
       "      <th>citationCount_FOS</th>\n",
       "      <th>paperCount_FOS</th>\n",
       "    </tr>\n",
       "  </thead>\n",
       "  <tbody>\n",
       "    <tr>\n",
       "      <th>0</th>\n",
       "      <td>417682</td>\n",
       "      <td>16830</td>\n",
       "      <td>515</td>\n",
       "      <td>97</td>\n",
       "    </tr>\n",
       "    <tr>\n",
       "      <th>1</th>\n",
       "      <td>1443462</td>\n",
       "      <td>15555</td>\n",
       "      <td>1079</td>\n",
       "      <td>407</td>\n",
       "    </tr>\n",
       "    <tr>\n",
       "      <th>2</th>\n",
       "      <td>1576492</td>\n",
       "      <td>13036</td>\n",
       "      <td>25902</td>\n",
       "      <td>1783</td>\n",
       "    </tr>\n",
       "    <tr>\n",
       "      <th>3</th>\n",
       "      <td>2657588</td>\n",
       "      <td>13756</td>\n",
       "      <td>14300</td>\n",
       "      <td>554</td>\n",
       "    </tr>\n",
       "    <tr>\n",
       "      <th>4</th>\n",
       "      <td>3079626</td>\n",
       "      <td>7771</td>\n",
       "      <td>7112619</td>\n",
       "      <td>437814</td>\n",
       "    </tr>\n",
       "  </tbody>\n",
       "</table>\n",
       "</div>"
      ],
      "text/plain": [
       "   entity_id  rank_FOS  citationCount_FOS  paperCount_FOS\n",
       "0     417682     16830                515              97\n",
       "1    1443462     15555               1079             407\n",
       "2    1576492     13036              25902            1783\n",
       "3    2657588     13756              14300             554\n",
       "4    3079626      7771            7112619          437814"
      ]
     },
     "execution_count": 10,
     "metadata": {},
     "output_type": "execute_result"
    }
   ],
   "source": [
    "with zipfile.ZipFile(\"15.FieldsOfStudy.csv.zip\") as z:\n",
    "   # open the csv file in the dataset\n",
    "    with z.open(\"FieldsOfStudy.csv\") as f:       \n",
    "      # read the dataset\n",
    "        FOS0 = pd.read_csv(f)\n",
    "        \n",
    "        \n",
    "FOS = pd.DataFrame(FOS0)\n",
    "#columns dropped = class, foaf_name, level, paperFamilyCount\n",
    "FOS.drop(FOS.columns[[1,2,4,5]], axis=1,inplace=True)\n",
    "FOS.columns = ['entity_id', 'rank_FOS', 'citationCount_FOS','paperCount_FOS']\n",
    "\n",
    "FOS.head()"
   ]
  },
  {
   "cell_type": "code",
   "execution_count": null,
   "id": "c7422cf9",
   "metadata": {},
   "outputs": [],
   "source": []
  },
  {
   "cell_type": "markdown",
   "id": "7546ddf0",
   "metadata": {},
   "source": [
    "# Merge"
   ]
  },
  {
   "cell_type": "code",
   "execution_count": 9,
   "id": "c624c370",
   "metadata": {},
   "outputs": [],
   "source": [
    "def merge_fos(paper):\n",
    "    PaperF0 = pd.merge(paper, PF, how=\"inner\") #, left_on=\"entity_id\", right_on=\"entity_id\")\n",
    "    FOSPAPER = pd.merge(PaperF0, LF, how=\"left\")\n",
    "    \n",
    "    return FOSPAPER"
   ]
  },
  {
   "cell_type": "code",
   "execution_count": 10,
   "id": "1c09a27f",
   "metadata": {},
   "outputs": [],
   "source": [
    "FOSPAPER0 = merge_fos(Paper0)\n",
    "#FOSPAPER1 = merge_fos(Paper1)\n",
    "#FOSPAPER2 = merge_fos(Paper2)\n",
    "#FOSPAPER3 = merge_fos(Paper3)\n",
    "#FOSPAPER4 = merge_fos(Paper4)\n",
    "#FOSPAPER5 = merge_fos(Paper5)\n",
    "#FOSPAPER6 = merge_fos(Paper6)\n",
    "#FOSPAPER7 = merge_fos(Paper7)\n",
    "#FOSPAPER8 = merge_fos(Paper8)\n",
    "#FOSPAPER9 = merge_fos(Paper9)"
   ]
  },
  {
   "cell_type": "code",
   "execution_count": null,
   "id": "e860c57d",
   "metadata": {},
   "outputs": [],
   "source": []
  },
  {
   "cell_type": "code",
   "execution_count": 11,
   "id": "b344904d",
   "metadata": {},
   "outputs": [],
   "source": [
    "fields = ['Medicine', 'Biology', 'Geology', 'Environmental science',\n",
    "       'Computer science', 'Materials science', 'Mathematics',\n",
    "       'Engineering', 'Chemistry', 'Physics', 'Business', 'Economics',\n",
    "       'Art', '-', 'Psychology', 'Philosophy', 'Geography', 'History',\n",
    "       'Sociology', 'Political science']"
   ]
  },
  {
   "cell_type": "markdown",
   "id": "952b9140",
   "metadata": {},
   "source": [
    "# Separate"
   ]
  },
  {
   "cell_type": "code",
   "execution_count": 12,
   "id": "e795acd5",
   "metadata": {},
   "outputs": [],
   "source": [
    "Medicine = pd.DataFrame()\n",
    "Biology = pd.DataFrame()\n",
    "Geology = pd.DataFrame()\n",
    "Environmental_science = pd.DataFrame()\n",
    "Computer_science = pd.DataFrame()\n",
    "Materials_science = pd.DataFrame()\n",
    "Mathematics = pd.DataFrame()\n",
    "Engineering = pd.DataFrame()\n",
    "Chemistry = pd.DataFrame()\n",
    "Physics = pd.DataFrame()\n",
    "Business = pd.DataFrame()\n",
    "Economics = pd.DataFrame()\n",
    "Art = pd.DataFrame()\n",
    "Psychology = pd.DataFrame()\n",
    "Philosophy = pd.DataFrame()\n",
    "Geography = pd.DataFrame()\n",
    "History = pd.DataFrame()\n",
    "Sociology = pd.DataFrame()\n",
    "Political_science = pd.DataFrame()"
   ]
  },
  {
   "cell_type": "code",
   "execution_count": 13,
   "id": "20aabd5b",
   "metadata": {},
   "outputs": [],
   "source": [
    "def subjects(paper):\n",
    "    global Medicine,Biology,Geology,Environmental_science,Computer_science,Materials_science,Mathematics,Engineering,History,Chemistry,Physics,Business,Economics,Art,Psychology,Philosophy,Geography,Sociology,Political_science\n",
    "    \n",
    "    Medicine = pd.concat([Medicine, paper.get_group('Medicine')], axis=0, ignore_index=True)\n",
    "    Biology = pd.concat([Biology, paper.get_group('Biology')], axis=0, ignore_index=True)\n",
    "    Geology = pd.concat([Geology, paper.get_group('Geology')], axis=0, ignore_index=True)\n",
    "    Environmental_science = pd.concat([Environmental_science, paper.get_group('Environmental science')], \n",
    "                                      axis=0, ignore_index=True)\n",
    "    Computer_science = pd.concat([Computer_science, paper.get_group('Computer science')], axis=0, ignore_index=True)\n",
    "    Materials_science = pd.concat([Materials_science, paper.get_group('Materials science')], axis=0, ignore_index=True)\n",
    "    Mathematics = pd.concat([Mathematics, paper.get_group('Mathematics')], axis=0, ignore_index=True)\n",
    "    Engineering = pd.concat([Engineering, paper.get_group('Engineering')], axis=0, ignore_index=True)\n",
    "    Chemistry = pd.concat([Chemistry, paper.get_group('Chemistry')], axis=0, ignore_index=True)\n",
    "    Physics = pd.concat([Physics, paper.get_group('Physics')], axis=0, ignore_index=True)\n",
    "    Business = pd.concat([Business, paper.get_group('Business')], axis=0, ignore_index=True)\n",
    "    Economics = pd.concat([Economics, paper.get_group('Economics')], axis=0, ignore_index=True)\n",
    "    Art = pd.concat([Art, paper.get_group('Art')], axis=0, ignore_index=True)\n",
    "    Psychology = pd.concat([Psychology, paper.get_group('Psychology')], axis=0, ignore_index=True)\n",
    "    Philosophy = pd.concat([Philosophy, paper.get_group('Philosophy')], axis=0, ignore_index=True)\n",
    "    History = pd.concat([History, paper.get_group('History')], axis=0, ignore_index=True)\n",
    "    Geography = pd.concat([Geography, paper.get_group('Geography')], axis=0, ignore_index=True)\n",
    "    Sociology = pd.concat([Sociology, paper.get_group('Sociology')], axis=0, ignore_index=True)\n",
    "    Political_science = pd.concat([Political_science, paper.get_group('Political science')], axis=0, ignore_index=True)\n",
    "    \n",
    "    \n"
   ]
  },
  {
   "cell_type": "code",
   "execution_count": 14,
   "id": "293d6a9d",
   "metadata": {},
   "outputs": [],
   "source": [
    "result_df = FOSPAPER0.groupby('fos_list')"
   ]
  },
  {
   "cell_type": "code",
   "execution_count": 15,
   "id": "bdf49cda",
   "metadata": {},
   "outputs": [],
   "source": [
    "subjects(result_df)"
   ]
  },
  {
   "cell_type": "code",
   "execution_count": null,
   "id": "9109b704",
   "metadata": {},
   "outputs": [],
   "source": []
  },
  {
   "cell_type": "code",
   "execution_count": 16,
   "id": "ea6a7599",
   "metadata": {},
   "outputs": [],
   "source": [
    "dataframes = [Medicine,Biology,Geology,Environmental_science,Computer_science,Materials_science,Mathematics,Engineering,\n",
    "              Chemistry,Physics,Business,Economics,Art,Psychology,Philosophy,History,Geography,Sociology,Political_science]   "
   ]
  },
  {
   "cell_type": "code",
   "execution_count": 17,
   "id": "a931e1d5",
   "metadata": {
    "scrolled": true
   },
   "outputs": [],
   "source": [
    "for df in dataframes:\n",
    "    name =[x for x in globals() if globals()[x] is df][0]\n",
    "    df = df[:10000]\n",
    "    df.to_csv(f'{name}.csv', index=False)"
   ]
  },
  {
   "cell_type": "code",
   "execution_count": null,
   "id": "da9fb694",
   "metadata": {},
   "outputs": [],
   "source": []
  },
  {
   "cell_type": "code",
   "execution_count": null,
   "id": "eac00f35",
   "metadata": {},
   "outputs": [],
   "source": []
  }
 ],
 "metadata": {
  "kernelspec": {
   "display_name": "Python 3 (ipykernel)",
   "language": "python",
   "name": "python3"
  },
  "language_info": {
   "codemirror_mode": {
    "name": "ipython",
    "version": 3
   },
   "file_extension": ".py",
   "mimetype": "text/x-python",
   "name": "python",
   "nbconvert_exporter": "python",
   "pygments_lexer": "ipython3",
   "version": "3.9.12"
  }
 },
 "nbformat": 4,
 "nbformat_minor": 5
}
